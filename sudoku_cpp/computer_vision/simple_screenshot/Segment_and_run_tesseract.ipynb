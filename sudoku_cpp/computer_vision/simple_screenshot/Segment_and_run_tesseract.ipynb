{
 "cells": [
  {
   "cell_type": "code",
   "execution_count": 25,
   "metadata": {},
   "outputs": [],
   "source": [
    "import cv2\n",
    "import math\n",
    "\n",
    "img = cv2.imread(\"screenshot.png\")\n",
    "\n",
    "img_shape = img.shape\n",
    "tile_size = (83.3, 83.3)\n",
    "offset = (83.3, 83.3)\n",
    "\n",
    "for i in range(9):\n",
    "    for j in range(9):\n",
    "        cropped_img = img[int(offset[1]*i):int(min(offset[1]*i+tile_size[1], img_shape[0])), int(offset[0]*j):int(min(offset[0]*j+tile_size[0], img_shape[1]))]\n",
    "        # Debugging the tiles\n",
    "        cropped_img = cropped_img[10:75, 10:75]\n",
    "        cv2.imwrite(\"debug_\" + str(i) + \"_\" + str(j) + \".png\", cropped_img)"
   ]
  },
  {
   "cell_type": "code",
   "execution_count": 31,
   "metadata": {},
   "outputs": [
    {
     "name": "stdout",
     "output_type": "stream",
     "text": [
      "[[5 3 0 0 7 0 0 0 0]\n",
      " [6 0 0 1 9 5 0 0 0]\n",
      " [0 9 8 0 0 0 0 6 0]\n",
      " [8 0 0 0 6 0 0 0 3]\n",
      " [4 0 0 8 0 3 0 0 1]\n",
      " [7 0 0 0 2 0 0 0 6]\n",
      " [0 6 0 0 0 0 2 8 0]\n",
      " [0 0 0 4 1 9 0 0 5]\n",
      " [0 0 0 0 8 0 0 7 9]]\n"
     ]
    }
   ],
   "source": [
    "import os\n",
    "import re\n",
    "digits = np.zeros((9,9), dtype=int)\n",
    "for i in range(9):\n",
    "    for j in range(9):\n",
    "        # Run tesseract on images, using a page segmentation mode (psm) to treat every image as a single char.\n",
    "        command = f\"tesseract debug_{i}_{j}.png test --psm 10 && cat test.txt\"\n",
    "        os.system(command)\n",
    "        with open(\"test.txt\") as f:\n",
    "            lines = f.readlines()\n",
    "            if (re.match(r'\\d', lines[0])):\n",
    "                digits[i][j] = int(lines[0][0])\n",
    "            else:\n",
    "                digits[i][j] = 0\n",
    "print(digits)       \n"
   ]
  },
  {
   "cell_type": "code",
   "execution_count": 32,
   "metadata": {},
   "outputs": [],
   "source": [
    "with open(\"output_puzzle.txt\", \"a\") as f:\n",
    "    for i in range(9):\n",
    "        for j in range(9):\n",
    "            f.write(str(digits[i][j])+\" \")\n",
    "        f.write(\"\\n\")"
   ]
  },
  {
   "cell_type": "code",
   "execution_count": null,
   "metadata": {},
   "outputs": [],
   "source": []
  }
 ],
 "metadata": {
  "kernelspec": {
   "display_name": "Python 3",
   "language": "python",
   "name": "python3"
  },
  "language_info": {
   "codemirror_mode": {
    "name": "ipython",
    "version": 3
   },
   "file_extension": ".py",
   "mimetype": "text/x-python",
   "name": "python",
   "nbconvert_exporter": "python",
   "pygments_lexer": "ipython3",
   "version": "3.7.0"
  }
 },
 "nbformat": 4,
 "nbformat_minor": 2
}
