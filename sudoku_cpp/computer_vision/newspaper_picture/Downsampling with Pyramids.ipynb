{
 "cells": [
  {
   "cell_type": "code",
   "execution_count": 1,
   "metadata": {},
   "outputs": [],
   "source": [
    "# Based on https://stackoverflow.com/questions/48954246/find-sudoku-grid-using-opencv-and-python\n",
    "\n",
    "import cv2\n",
    "import math\n",
    "import os\n",
    "import re\n",
    "import numpy as np\n",
    "\n",
    "img = cv2.imread(\"newspaper2.jpg\")\n",
    "#cv2.imshow('screenshot',img)\n",
    "#cv2.waitKey(0)\n",
    "\n",
    "#blank_image = np.zeros((img.shape[0],img.shape[1],3), np.uint8)\n"
   ]
  },
  {
   "cell_type": "code",
   "execution_count": null,
   "metadata": {},
   "outputs": [],
   "source": [
    "# Downsampling\n",
    "blank_image = cv2.pyrDown(img, dstsize=(img.shape[0]//2, img.shape[1]//2))\n",
    "#cv2.imwrite('downsampled.png',blank_image)\n",
    "blank_image = cv2.pyrUp(img, dstsize=(blank_image.shape[0]*2, blank_image.shape[1]*2))\n",
    "cv2.imshow('image',blank_image)\n",
    "cv2.waitKey(0)"
   ]
  },
  {
   "cell_type": "code",
   "execution_count": null,
   "metadata": {},
   "outputs": [],
   "source": []
  }
 ],
 "metadata": {
  "kernelspec": {
   "display_name": "Python 3",
   "language": "python",
   "name": "python3"
  },
  "language_info": {
   "codemirror_mode": {
    "name": "ipython",
    "version": 3
   },
   "file_extension": ".py",
   "mimetype": "text/x-python",
   "name": "python",
   "nbconvert_exporter": "python",
   "pygments_lexer": "ipython3",
   "version": "3.7.0"
  }
 },
 "nbformat": 4,
 "nbformat_minor": 2
}
