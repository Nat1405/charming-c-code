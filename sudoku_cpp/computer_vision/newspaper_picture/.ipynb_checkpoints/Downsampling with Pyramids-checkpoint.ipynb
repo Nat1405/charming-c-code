{
 "cells": [
  {
   "cell_type": "code",
   "execution_count": null,
   "metadata": {},
   "outputs": [],
   "source": [
    "# Based on https://stackoverflow.com/questions/48954246/find-sudoku-grid-using-opencv-and-python\n",
    "\n",
    "import cv2\n",
    "import math\n",
    "import os\n",
    "import re\n",
    "\n",
    "img = cv2.imread(\"newspaperpicture.jpg\")\n",
    "cv2.imshow('screenshot',img)\n",
    "cv2.waitKey(0)\n"
   ]
  },
  {
   "cell_type": "code",
   "execution_count": null,
   "metadata": {},
   "outputs": [],
   "source": [
    "# Downsampling\n",
    "cv2.pyrDown(img, \"downsampled.png\")"
   ]
  }
 ],
 "metadata": {
  "kernelspec": {
   "display_name": "Python 3",
   "language": "python",
   "name": "python3"
  },
  "language_info": {
   "codemirror_mode": {
    "name": "ipython",
    "version": 3
   },
   "file_extension": ".py",
   "mimetype": "text/x-python",
   "name": "python",
   "nbconvert_exporter": "python",
   "pygments_lexer": "ipython3",
   "version": "3.7.0"
  }
 },
 "nbformat": 4,
 "nbformat_minor": 2
}
